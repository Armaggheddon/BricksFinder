{
 "cells": [
  {
   "cell_type": "code",
   "execution_count": 1,
   "metadata": {},
   "outputs": [],
   "source": [
    "import pandas as pd\n",
    "from pathlib import Path\n",
    "import os"
   ]
  },
  {
   "cell_type": "code",
   "execution_count": 2,
   "metadata": {},
   "outputs": [],
   "source": [
    "ROOT_DIR = Path(\"raw_data\")\n",
    "PROCESSED_DIR = Path(\"processed_data\")"
   ]
  },
  {
   "cell_type": "code",
   "execution_count": 3,
   "metadata": {},
   "outputs": [],
   "source": [
    "if not os.path.exists(PROCESSED_DIR):\n",
    "    os.makedirs(PROCESSED_DIR)"
   ]
  },
  {
   "cell_type": "code",
   "execution_count": 4,
   "metadata": {},
   "outputs": [],
   "source": [
    "inventory_parts = pd.read_csv(ROOT_DIR / \"inventory_parts.csv\")\n",
    "parts = pd.read_csv(ROOT_DIR / \"parts.csv\")\n",
    "colors = pd.read_csv(ROOT_DIR / \"colors.csv\")\n",
    "part_categories = pd.read_csv(ROOT_DIR / \"part_categories.csv\")"
   ]
  },
  {
   "cell_type": "code",
   "execution_count": 5,
   "metadata": {},
   "outputs": [
    {
     "name": "stdout",
     "output_type": "stream",
     "text": [
      "Inventory parts:  Index(['inventory_id', 'part_num', 'color_id', 'quantity', 'is_spare',\n",
      "       'img_url'],\n",
      "      dtype='object')\n",
      "Parts:  Index(['part_num', 'name', 'part_cat_id', 'part_material'], dtype='object')\n",
      "Colors:  Index(['id', 'name', 'rgb', 'is_trans'], dtype='object')\n",
      "Part categories:  Index(['id', 'name'], dtype='object')\n"
     ]
    }
   ],
   "source": [
    "print(\"Inventory parts: \", inventory_parts.columns)\n",
    "print(\"Parts: \", parts.columns)\n",
    "print(\"Colors: \", colors.columns)\n",
    "print(\"Part categories: \", part_categories.columns)"
   ]
  },
  {
   "cell_type": "code",
   "execution_count": null,
   "metadata": {},
   "outputs": [],
   "source": [
    "# create a dataframe that will host all the lego bricks, and \n",
    "# start by adding the inventory parts data\n",
    "lego_bricks = inventory_parts.copy()"
   ]
  },
  {
   "cell_type": "code",
   "execution_count": null,
   "metadata": {},
   "outputs": [],
   "source": [
    "# add columns from parts to lego_bricks, rename new columns as \n",
    "# part_name, part_cat_id, and part_material\n",
    "lego_bricks = lego_bricks.merge(parts, on=\"part_num\")\n",
    "lego_bricks = lego_bricks.rename(columns={\"name\": \"part_name\", \"part_cat_id\": \"part_cat_id\", \"material\": \"part_material\"})"
   ]
  },
  {
   "cell_type": "code",
   "execution_count": null,
   "metadata": {},
   "outputs": [],
   "source": [
    "# add columns from colors to lego_bricks, rename new columns as color_name\n",
    "# color_rgb and is_transparent\n",
    "lego_bricks = lego_bricks.merge(colors, left_on=\"color_id\", right_on=\"id\")\n",
    "lego_bricks = lego_bricks.rename(columns={\"id\": \"color_id\", \"name\": \"color_name\", \"rgb\": \"color_rgb\", \"is_trans\": \"is_transparent\"})"
   ]
  },
  {
   "cell_type": "code",
   "execution_count": null,
   "metadata": {},
   "outputs": [],
   "source": [
    "# add columns from part_categories to lego_bricks, rename new columns as\n",
    "# part_cat_name\n",
    "lego_bricks = lego_bricks.merge(part_categories, left_on=\"part_cat_id\", right_on=\"id\")\n",
    "lego_bricks = lego_bricks.rename(columns={\"name\": \"part_cat_name\"})\n",
    "lego_bricks = lego_bricks.drop(columns=[\"id\"])"
   ]
  },
  {
   "cell_type": "code",
   "execution_count": null,
   "metadata": {},
   "outputs": [
    {
     "name": "stdout",
     "output_type": "stream",
     "text": [
      "   inventory_id        part_num  color_id  quantity  is_spare  \\\n",
      "0             1        48379c04        72         1     False   \n",
      "1             1           48391         0         1     False   \n",
      "2             1           48395         7         1     False   \n",
      "3             1        48864c01        25         1     False   \n",
      "4             1  stickerupn0077      9999         1     False   \n",
      "\n",
      "                                             img_url  \\\n",
      "0  https://cdn.rebrickable.com/media/parts/photos...   \n",
      "1  https://cdn.rebrickable.com/media/parts/photos...   \n",
      "2  https://cdn.rebrickable.com/media/parts/photos...   \n",
      "3                                                NaN   \n",
      "4                                                NaN   \n",
      "\n",
      "                                           part_name  part_cat_id  \\\n",
      "0       Large Figure Torso and Legs, with Black Feet           41   \n",
      "1    Sports Promo Paddle from McDonald's Sports Sets           27   \n",
      "2   Sports Snowboard from McDonald's Promotional Set           27   \n",
      "3  Sports Promo Figure Head Torso Assembly McDona...           13   \n",
      "4                       Sticker Sheet for Set 7922-1           58   \n",
      "\n",
      "  part_material  color_id            color_name color_rgb  is_transparent  \\\n",
      "0       Plastic        72      Dark Bluish Gray    6C6E68           False   \n",
      "1       Plastic         0                 Black    05131D           False   \n",
      "2       Plastic         7            Light Gray    9BA19D           False   \n",
      "3       Plastic        25                Orange    FE8A18           False   \n",
      "4       Plastic      9999  [No Color/Any Color]    05131D           False   \n",
      "\n",
      "             part_cat_name  \n",
      "0  Large Buildable Figures  \n",
      "1      Minifig Accessories  \n",
      "2      Minifig Accessories  \n",
      "3                 Minifigs  \n",
      "4                 Stickers  \n"
     ]
    }
   ],
   "source": [
    "print(lego_bricks.head())"
   ]
  },
  {
   "cell_type": "code",
   "execution_count": null,
   "metadata": {},
   "outputs": [],
   "source": [
    "# save the final data to a csv file and as a dataframe\n",
    "lego_bricks.to_csv(PROCESSED_DIR / \"lego_bricks.csv\", index=True)\n",
    "lego_bricks.to_pickle(PROCESSED_DIR / \"lego_bricks.pkl\")"
   ]
  }
 ],
 "metadata": {
  "kernelspec": {
   "display_name": ".bricks_dataset",
   "language": "python",
   "name": "python3"
  },
  "language_info": {
   "codemirror_mode": {
    "name": "ipython",
    "version": 3
   },
   "file_extension": ".py",
   "mimetype": "text/x-python",
   "name": "python",
   "nbconvert_exporter": "python",
   "pygments_lexer": "ipython3",
   "version": "3.10.10"
  }
 },
 "nbformat": 4,
 "nbformat_minor": 2
}
